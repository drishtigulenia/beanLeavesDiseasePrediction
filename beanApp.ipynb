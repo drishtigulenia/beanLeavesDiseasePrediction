{
 "cells": [
  {
   "cell_type": "code",
   "execution_count": 1,
   "metadata": {},
   "outputs": [],
   "source": [
    "import flask\n",
    "from flask import Flask, render_template, request\n",
    "import numpy as np\n",
    "import warnings\n",
    "import numpy\n",
    "import os\n",
    "import pickle\n",
    "from tensorflow.keras.models import load_model\n",
    "from tensorflow.keras.preprocessing import image\n",
    "from flask import Flask, redirect, url_for, request, render_template\n",
    "from werkzeug.utils import secure_filename"
   ]
  },
  {
   "cell_type": "code",
   "execution_count": null,
   "metadata": {},
   "outputs": [
    {
     "name": "stdout",
     "output_type": "stream",
     "text": [
      " * Serving Flask app \"__main__\" (lazy loading)\n",
      " * Environment: production\n",
      "\u001b[31m   WARNING: This is a development server. Do not use it in a production deployment.\u001b[0m\n",
      "\u001b[2m   Use a production WSGI server instead.\u001b[0m\n",
      " * Debug mode: off\n"
     ]
    },
    {
     "name": "stderr",
     "output_type": "stream",
     "text": [
      " * Running on http://127.0.0.1:5000/ (Press CTRL+C to quit)\n",
      "127.0.0.1 - - [25/Jun/2022 23:29:02] \"\u001b[37mGET / HTTP/1.1\u001b[0m\" 200 -\n",
      "127.0.0.1 - - [25/Jun/2022 23:29:02] \"\u001b[33mGET /css/master.css HTTP/1.1\u001b[0m\" 404 -\n",
      "127.0.0.1 - - [25/Jun/2022 23:29:02] \"\u001b[33mGET /Leaves-of-Green-beans.jpg HTTP/1.1\u001b[0m\" 404 -\n",
      "127.0.0.1 - - [25/Jun/2022 23:29:18] \"\u001b[37mPOST / HTTP/1.1\u001b[0m\" 200 -\n",
      "127.0.0.1 - - [25/Jun/2022 23:29:18] \"\u001b[33mGET /css/master.css HTTP/1.1\u001b[0m\" 404 -\n",
      "127.0.0.1 - - [25/Jun/2022 23:29:18] \"\u001b[33mGET /Leaves-of-Green-beans.jpg HTTP/1.1\u001b[0m\" 404 -\n",
      "127.0.0.1 - - [25/Jun/2022 23:29:35] \"\u001b[37mPOST / HTTP/1.1\u001b[0m\" 200 -\n",
      "127.0.0.1 - - [25/Jun/2022 23:29:35] \"\u001b[33mGET /css/master.css HTTP/1.1\u001b[0m\" 404 -\n",
      "127.0.0.1 - - [25/Jun/2022 23:29:35] \"\u001b[33mGET /Leaves-of-Green-beans.jpg HTTP/1.1\u001b[0m\" 404 -\n",
      "127.0.0.1 - - [25/Jun/2022 23:29:43] \"\u001b[37mGET / HTTP/1.1\u001b[0m\" 200 -\n",
      "127.0.0.1 - - [25/Jun/2022 23:29:43] \"\u001b[33mGET /css/master.css HTTP/1.1\u001b[0m\" 404 -\n",
      "127.0.0.1 - - [25/Jun/2022 23:29:43] \"\u001b[33mGET /Leaves-of-Green-beans.jpg HTTP/1.1\u001b[0m\" 404 -\n"
     ]
    }
   ],
   "source": [
    "warnings.filterwarnings('ignore')\n",
    "\n",
    "app = Flask(__name__)\n",
    "\n",
    "model = pickle.load(open('cadio_model_xception.pkl', 'rb'))\n",
    "\n",
    "def model_predict(img_path, model):\n",
    "    img = image.load_img(img_path, target_size=(224, 224))\n",
    "\n",
    "    if img.mode != 'RGB':\n",
    "        img = img.convert('RGB') \n",
    "    # Preprocessing\n",
    "    x = image.img_to_array(img)\n",
    "    # Scaling\n",
    "    x=x/255\n",
    "    x = np.expand_dims(x, axis=0)\n",
    "\n",
    "    preds = model.predict(x)\n",
    "    preds=np.argmax(preds, axis=1)\n",
    "    if preds==0:\n",
    "        preds='The leaves have Bean Rust Disease'\n",
    "    elif preds == 1:\n",
    "        preds=\"The leaves have Angular Leaf spot\"\n",
    "    else:\n",
    "        preds=\"Leaves are healthy\"\n",
    "    return preds\n",
    "\n",
    "@app.route('/', methods=['GET'])\n",
    "def home():\n",
    "    return render_template('index.html')\n",
    "\n",
    "@app.route('/', methods=['GET', \"POST\"])\n",
    "def predict():\n",
    "    if request.method == 'POST':\n",
    "        \n",
    "    # Get the file from post request\n",
    "        img = request.files['file']\n",
    "        \n",
    "    # Save the file to ./Uploads\n",
    "        basepath = os.path.dirname('__file__')\n",
    "        file_path = os.path.join(\n",
    "        basepath, 'Uploads', secure_filename(img.filename))\n",
    "        img.save(file_path)\n",
    "        img.close()\n",
    "        # Make prediction\n",
    "        preds = model_predict(file_path, model)\n",
    "        result=preds\n",
    "        return render_template('index.html', prediction_text = result)\n",
    "    return render_template('index.html')\n",
    "  \n",
    "app.run()"
   ]
  },
  {
   "cell_type": "code",
   "execution_count": null,
   "metadata": {},
   "outputs": [],
   "source": []
  }
 ],
 "metadata": {
  "kernelspec": {
   "display_name": "Python 3",
   "language": "python",
   "name": "python3"
  },
  "language_info": {
   "codemirror_mode": {
    "name": "ipython",
    "version": 3
   },
   "file_extension": ".py",
   "mimetype": "text/x-python",
   "name": "python",
   "nbconvert_exporter": "python",
   "pygments_lexer": "ipython3",
   "version": "3.8.5"
  }
 },
 "nbformat": 4,
 "nbformat_minor": 4
}
